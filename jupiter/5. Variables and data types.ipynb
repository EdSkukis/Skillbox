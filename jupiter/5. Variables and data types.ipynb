{
 "cells": [
  {
   "cell_type": "markdown",
   "metadata": {
    "id": "DQMbBvBmCHHB"
   },
   "source": [
    "# Переменные и типы данных. Практическое задание\n",
    "\n",
    "### Цель задания\n",
    "Закрепить пройденный материал о переменных, типах данных и булевых значениях.\n",
    "\n",
    "###Что нужно сделать\n",
    "Выполните предложенные ниже задачи.\n",
    "\n",
    "###Критерии самопроверки\n",
    "Для каждой задачи:\n",
    "* Программа выполняет все описанные в задаче действия.\n",
    "* Результаты вычислений и применённых операций корректны.\n",
    "* Вывод производится в том виде, который описан в задаче.\n",
    "* Переменные имеют информативные названия.\n"
   ]
  },
  {
   "cell_type": "markdown",
   "metadata": {
    "id": "xC9zfQx09hse"
   },
   "source": [
    "1. В ячейке ниже вы видите пять переменных. Составьте из них осмысленную фразу и выведите на печать, используя конкатенацию."
   ]
  },
  {
   "cell_type": "code",
   "execution_count": 2,
   "metadata": {
    "id": "_Er7M5A6BOW5"
   },
   "outputs": [],
   "source": [
    "# Переменные\n",
    "inf = \"греться \"\n",
    "noun = \"змеи \"\n",
    "obj = \"солнце \"\n",
    "prep = \"на \"\n",
    "verb = \"любят \""
   ]
  },
  {
   "cell_type": "code",
   "execution_count": 6,
   "metadata": {
    "id": "ZRye7O1zBTxI"
   },
   "outputs": [
    {
     "name": "stdout",
     "output_type": "stream",
     "text": [
      "змеи любят греться на солнце \n"
     ]
    }
   ],
   "source": [
    "# Выведите на печать фразу\n",
    "print(noun+verb+inf+prep+obj)"
   ]
  },
  {
   "cell_type": "markdown",
   "metadata": {
    "id": "E9GwwHEaCz4f"
   },
   "source": [
    "2. Вы проехали на такси 15,5 километра и заплатили за поездку 520 рублей. Сохраните данные в переменные и посчитайте, сколько стоил километр вашей поездки. Выведите стоимость километра поездки на экран.\n"
   ]
  },
  {
   "cell_type": "code",
   "execution_count": 11,
   "metadata": {
    "id": "8SZO6KwpHx7v"
   },
   "outputs": [
    {
     "name": "stdout",
     "output_type": "stream",
     "text": [
      "стоимость километра поездки - 33.54838709677419\n"
     ]
    }
   ],
   "source": [
    "# Переменные\n",
    "distance = 15.5\n",
    "price = 520\n",
    "\n",
    "# Расчёт стоимости на километр\n",
    "price_1km = (price / distance)\n",
    "\n",
    "# Вывод на экран\n",
    "print('стоимость километра поездки -', price_1km)\n"
   ]
  },
  {
   "cell_type": "markdown",
   "metadata": {
    "id": "xXP2rrn8IOQw"
   },
   "source": [
    "3. В ячейке ниже есть несколько переменных. Проверьте, относятся ли они к типу данных «строка». Выведите для каждого результат проверки на экран.\n"
   ]
  },
  {
   "cell_type": "markdown",
   "metadata": {
    "id": "FctfjX1QIdvB"
   },
   "source": [
    "*Критерии оценки*: задание считается выполненным, если на выводе мы видим проверку для всех трех переменных и результат для каждой из них в виде True или False"
   ]
  },
  {
   "cell_type": "code",
   "execution_count": 12,
   "metadata": {
    "id": "XaqILybNGQi5"
   },
   "outputs": [
    {
     "name": "stdout",
     "output_type": "stream",
     "text": [
      "Переменная age является строкой False\n",
      "Переменная town является строкой True\n",
      "Переменная beautiful является строкой False\n"
     ]
    }
   ],
   "source": [
    "# Переменные для проверки\n",
    "age = 1006\n",
    "town = 'Торжок'\n",
    "beautiful = True\n",
    "\n",
    "# Проверяем и выводим результат\n",
    "print('Переменная age является строкой', isinstance(age, str))\n",
    "print('Переменная town является строкой', isinstance(town, str))\n",
    "print('Переменная beautiful является строкой', isinstance(beautiful, str))"
   ]
  },
  {
   "cell_type": "markdown",
   "metadata": {
    "id": "j_D8Y5U6GUHp"
   },
   "source": [
    "4. Посмотрите вокруг. Наверное, вы сидите в помещении (если нет, представьте любое знакомое помещение). Как вы думаете, его площадь больше 15 квадратных метров или меньше? Напишите программу, которая будет сравнивать площадь этого помещения с 15 квадратными метрами. Ширину и длину программа должна запрашивать на ввод с экрана. В итоге программа должна выводить на экран вопрос «Ваша комната больше 15 квадратных метров?» и сама же отвечать на него `True` или `False`.\n"
   ]
  },
  {
   "cell_type": "code",
   "execution_count": 14,
   "metadata": {
    "id": "nj9JahM_HbvF"
   },
   "outputs": [
    {
     "name": "stdout",
     "output_type": "stream",
     "text": [
      "Ширина, [m]:3\n",
      "Длина, [m]:4\n",
      "Ваша комната больше 15 квадратных метров?\n",
      "False\n"
     ]
    }
   ],
   "source": [
    "# Начинаем с ввода данных с экрана, которые сохраняем в переменные. Помните про тип данных!\n",
    "\n",
    "width = int(input('Ширина, [m]:'))\n",
    "length = int(input('Длина, [m]:'))\n",
    "\n",
    "# Вычисляем площадь\n",
    "sqrt = width * length\n",
    "\n",
    "# Выводим на экран вопрос\n",
    "print(\"Ваша комната больше 15 квадратных метров?\")\n",
    "# Сравниваем полученную площадь с 15 квадратными метрами\n",
    "print(sqrt > 15)"
   ]
  },
  {
   "cell_type": "markdown",
   "metadata": {
    "id": "YfnVuKRuIvdZ"
   },
   "source": [
    "5. Напишите программу, которая запрашивает на ввод какое-то слово или фразу, а потом выводит на печать длину этой фразы.\n"
   ]
  },
  {
   "cell_type": "code",
   "execution_count": 15,
   "metadata": {
    "id": "pdQSd8RKHzPU"
   },
   "outputs": [
    {
     "name": "stdout",
     "output_type": "stream",
     "text": [
      "Введите слово или фразу:zsdgzzd\n",
      "Длина этой фразы: 7\n"
     ]
    }
   ],
   "source": [
    "# Запрашиваем фразу\n",
    "s = input('Введите слово или фразу:')\n",
    "\n",
    "# Считаем длину\n",
    "s_len = len(s)\n",
    "\n",
    "# Выводим длину фразы на экран\n",
    "print('Длина этой фразы:', s_len)\n"
   ]
  },
  {
   "cell_type": "markdown",
   "metadata": {
    "id": "6g_gZkuHKxJ_"
   },
   "source": [
    "6. Замените вопросительный знак так, чтобы на выводе получилось `True`.\n"
   ]
  },
  {
   "cell_type": "code",
   "execution_count": null,
   "metadata": {
    "colab": {
     "base_uri": "https://localhost:8080/"
    },
    "executionInfo": {
     "elapsed": 405,
     "status": "ok",
     "timestamp": 1630882731242,
     "user": {
      "displayName": "Evgeniya Rakina",
      "photoUrl": "",
      "userId": "02082358283809329905"
     },
     "user_tz": -180
    },
    "id": "tP6aWWSzKxzJ",
    "outputId": "99829aad-152a-4331-8d9f-b3206074b349"
   },
   "outputs": [
    {
     "data": {
      "text/plain": [
       "True"
      ]
     },
     "execution_count": 4,
     "metadata": {},
     "output_type": "execute_result"
    }
   ],
   "source": [
    "len(\"Привет\") < 14 ? type(\"Привет\") == float"
   ]
  },
  {
   "cell_type": "code",
   "execution_count": 21,
   "metadata": {
    "colab": {
     "base_uri": "https://localhost:8080/"
    },
    "executionInfo": {
     "elapsed": 293,
     "status": "ok",
     "timestamp": 1630882995848,
     "user": {
      "displayName": "Evgeniya Rakina",
      "photoUrl": "",
      "userId": "02082358283809329905"
     },
     "user_tz": -180
    },
    "id": "8Uenbo4dLiCW",
    "outputId": "0941a29c-9314-4c4e-f331-781b73872f43"
   },
   "outputs": [
    {
     "data": {
      "text/plain": [
       "True"
      ]
     },
     "execution_count": 21,
     "metadata": {},
     "output_type": "execute_result"
    }
   ],
   "source": [
    "not ((int(3.5) != 3 >= 3 < 5))"
   ]
  },
  {
   "cell_type": "code",
   "execution_count": 23,
   "metadata": {
    "colab": {
     "base_uri": "https://localhost:8080/"
    },
    "executionInfo": {
     "elapsed": 339,
     "status": "ok",
     "timestamp": 1630883081934,
     "user": {
      "displayName": "Evgeniya Rakina",
      "photoUrl": "",
      "userId": "02082358283809329905"
     },
     "user_tz": -180
    },
    "id": "VP7-FMbCMcKj",
    "outputId": "fe1f2679-809b-43bc-9b4d-35f430bd9dac"
   },
   "outputs": [
    {
     "data": {
      "text/plain": [
       "True"
      ]
     },
     "execution_count": 23,
     "metadata": {},
     "output_type": "execute_result"
    }
   ],
   "source": [
    "True * 5 == 5"
   ]
  },
  {
   "cell_type": "code",
   "execution_count": null,
   "metadata": {
    "colab": {
     "base_uri": "https://localhost:8080/"
    },
    "executionInfo": {
     "elapsed": 445,
     "status": "ok",
     "timestamp": 1630883127639,
     "user": {
      "displayName": "Evgeniya Rakina",
      "photoUrl": "",
      "userId": "02082358283809329905"
     },
     "user_tz": -180
    },
    "id": "OsHOg26GNOvT",
    "outputId": "d1af4de5-467a-47fc-b6ce-59d3265238e3"
   },
   "outputs": [
    {
     "data": {
      "text/plain": [
       "True"
      ]
     },
     "execution_count": 13,
     "metadata": {},
     "output_type": "execute_result"
    }
   ],
   "source": [
    "float(35) ? 77.0"
   ]
  },
  {
   "cell_type": "code",
   "execution_count": 25,
   "metadata": {
    "colab": {
     "base_uri": "https://localhost:8080/"
    },
    "executionInfo": {
     "elapsed": 273,
     "status": "ok",
     "timestamp": 1630883169393,
     "user": {
      "displayName": "Evgeniya Rakina",
      "photoUrl": "",
      "userId": "02082358283809329905"
     },
     "user_tz": -180
    },
    "id": "k9bJm0thNYHb",
    "outputId": "dd9d2ecc-c373-4bfe-b87c-7bc184fbdbf8"
   },
   "outputs": [
    {
     "data": {
      "text/plain": [
       "True"
      ]
     },
     "execution_count": 25,
     "metadata": {},
     "output_type": "execute_result"
    }
   ],
   "source": [
    "77 // 2 == 38 and not False"
   ]
  },
  {
   "cell_type": "code",
   "execution_count": 26,
   "metadata": {},
   "outputs": [
    {
     "data": {
      "text/plain": [
       "2"
      ]
     },
     "execution_count": 26,
     "metadata": {},
     "output_type": "execute_result"
    }
   ],
   "source": [
    "17 % 3\n"
   ]
  },
  {
   "cell_type": "code",
   "execution_count": 27,
   "metadata": {},
   "outputs": [
    {
     "data": {
      "text/plain": [
       "False"
      ]
     },
     "execution_count": 27,
     "metadata": {},
     "output_type": "execute_result"
    }
   ],
   "source": [
    "not 25\n"
   ]
  },
  {
   "cell_type": "code",
   "execution_count": 28,
   "metadata": {},
   "outputs": [
    {
     "name": "stdout",
     "output_type": "stream",
     "text": [
      "sddf\n",
      "11\n"
     ]
    }
   ],
   "source": [
    "a = '25'\n",
    "try:\n",
    "    print(25 - a)\n",
    "except:\n",
    "    print('sddf')\n",
    "finally:\n",
    "    print('11')"
   ]
  },
  {
   "cell_type": "code",
   "execution_count": null,
   "metadata": {},
   "outputs": [],
   "source": []
  }
 ],
 "metadata": {
  "colab": {
   "provenance": [
    {
     "file_id": "1Hkw5vHp6ov0AoOdNIXoZ8qcDRMcDidNj",
     "timestamp": 1698303227471
    }
   ]
  },
  "kernelspec": {
   "display_name": "Python 3 (ipykernel)",
   "language": "python",
   "name": "python3"
  },
  "language_info": {
   "codemirror_mode": {
    "name": "ipython",
    "version": 3
   },
   "file_extension": ".py",
   "mimetype": "text/x-python",
   "name": "python",
   "nbconvert_exporter": "python",
   "pygments_lexer": "ipython3",
   "version": "3.11.5"
  }
 },
 "nbformat": 4,
 "nbformat_minor": 1
}
