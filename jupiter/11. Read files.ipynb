{
 "cells": [
  {
   "cell_type": "markdown",
   "id": "194ee24b-50d1-4175-b37e-2e3f7e762269",
   "metadata": {
    "id": "194ee24b-50d1-4175-b37e-2e3f7e762269"
   },
   "source": [
    "# Чтение файлов в Python и командной строке. Практическая работа\n",
    "\n",
    "### Цели практической работы\n",
    "1. Научиться считывать информацию из файлов и совершать над ней операции с помощью кода на Python и командной строки.\n",
    "2. Закрепить навыки стыковки команд в конвейеры и установки внешних пакетов с помощью пакетного менеджера pip.\n",
    "\n",
    "### Что входит в практическую работу\n",
    "1. Работа с файлами в командной строке.\n",
    "2. Работа с файлами в Python 1.\n",
    "3. Работа с файлами в Python 2.\n",
    "4. Импортирование модулей.\n",
    "5. Установка внешних модулей через pip.\n",
    "6. Бонусное задание.\n",
    "\n",
    "### Что оценивается\n",
    "* Выполнены пять обязательных заданий, в каждом из них:\n",
    " * программа выполняет все описанные в задании действия;\n",
    " * результаты вычислений и применённых операций корректны;\n",
    " * стилизация кода соответствует рекомендациям [PEP 8](https://pythonworld.ru/osnovy/pep-8-rukovodstvo-po-napisaniyu-koda-na-python.html).\n",
    "\n",
    "\n",
    "### Как отправить работу на проверку\n",
    "Все задания собраны в один Jupyter Notebook. Выполните их, сохраните изменения при помощи опции Save and Checkpoint из вкладки меню File или кнопки Save and Checkpoint на панели инструментов. Отправьте итоговый файл Jupyter Notebook в формате IPYNB или ссылку на него через форму для сдачи практической работы.\n",
    "\n",
    "---"
   ]
  },
  {
   "cell_type": "markdown",
   "id": "a44f6df4",
   "metadata": {
    "id": "a44f6df4"
   },
   "source": [
    "## Задание 1. Работа с файлами в командной строке\n",
    "\n",
    "Ранее вы считали количество всех слов в рассказе А. П. Чехова «Анна на шее». Теперь необходимо определить, сколько раз каждое слово встречается в тексте.\n",
    "\n",
    "Вы уже знаете команды sort и uniq, умеете с их помощью считать количество уникальных строк в построчном файле. В результате у вас должен был получиться такой конвейер команд: `cat anna_words.txt | sort | uniq | wc -l`.\n",
    "\n",
    "Команда cat перенаправляет слова из файла в команду sort, которая сортирует слова и передаёт упорядоченный список в команду uniq. Последняя удаляет дубликаты и направляет список уникальных слов в команду wc −l, которая их считает.\n",
    "\n",
    "### Что нужно сделать\n",
    "\n",
    "Посчитайте количество уникальных слов и определите частоту встречаемости каждого слова. Информацию в виде `частота слово` сохраните в текстовый файл. Для этого:\n",
    "1. Измените конвейер команд так, чтобы он выводил слова и их частоту встречаемости на экран.\n",
    "2. Перенаправьте вывод конвейера в текстовый файл `words_freq.txt`.\n",
    "\n",
    "Если всё сделаете правильно, то получится текстовый файл `words_freq.txt`, в котором будут слова и их частота в виде:\n",
    "\n",
    "```\n",
    "...\n",
    "   1 по-прежнему\n",
    "   2 по-французски\n",
    "  40 аня\n",
    "   6 бал\n",
    "   1 бог\n",
    "   2 ваш\n",
    "   2 вид\n",
    "...\n",
    "```\n",
    "\n",
    "3. Скопируйте конвейер команд в ячейку, которая расположена непосредственно под этой.\n",
    "\n",
    "### Подсказки\n",
    "1. Ознакомьтесь с документацией команды uniq, обратите внимание на её ключ `-с`. Официальную документацию можно почитать прямо в командной строке: для этого выполните команду `man uniq`. Команда `man` (от англ. manual) выводит справку для команды, которая передаётся в man как аргумент. Если читать текст в терминале непривычно, то можете поискать информацию в интернете.\n",
    "\n",
    "2. Перенаправить вывод команды в bash можно с помощью символа `>`. О том, как это сделать, читайте в интернете. Например, в статье [**«Перенаправление ввода вывода Linux»**](https://losst.ru/perenapravlenie-vvoda-vyvoda-linux). "
   ]
  },
  {
   "cell_type": "markdown",
   "id": "ac416392",
   "metadata": {
    "id": "ac416392"
   },
   "source": [
    "# Вставьте конвейер команд, который у вас получился"
   ]
  },
  {
   "cell_type": "code",
   "execution_count": 9,
   "id": "b9b13546-4933-4e8c-b0a7-62ce13863320",
   "metadata": {
    "id": "b9b13546-4933-4e8c-b0a7-62ce13863320",
    "outputId": "ce4e0dfb-e91d-4337-984a-5d9811bb449b"
   },
   "outputs": [
    {
     "name": "stdout",
     "output_type": "stream",
     "text": [
      " Volume in drive C has no label.\n",
      " Volume Serial Number is 9A13-E239\n",
      "\n",
      " Directory of C:\\Users\\ThinkpadT495\\Skillbox\n",
      "\n",
      "11/02/2023  08:21 AM    <DIR>          .\n",
      "10/26/2023  04:11 PM    <DIR>          ..\n",
      "11/01/2023  08:59 AM    <DIR>          .ipynb_checkpoints\n",
      "11/02/2023  08:21 AM            18,771 11.6 ???????????? ??????.ipynb\n",
      "10/26/2023  08:48 AM             6,540 5.7_?????????_?????_????_?_???????.ipynb\n",
      "11/02/2023  08:17 AM    <DIR>          files\n",
      "11/01/2023  08:56 AM    <DIR>          jupiter\n",
      "               2 File(s)         25,311 bytes\n",
      "               5 Dir(s)  167,985,639,424 bytes free\n",
      "C:\\Users\\ThinkpadT495\\Skillbox\\files\n",
      " Volume in drive C has no label.\n",
      " Volume Serial Number is 9A13-E239\n",
      "\n",
      " Directory of C:\\Users\\ThinkpadT495\\Skillbox\\files\n",
      "\n",
      "11/02/2023  08:17 AM    <DIR>          .\n",
      "11/02/2023  08:21 AM    <DIR>          ..\n",
      "11/01/2023  05:44 PM            33,530 anna_words.txt\n",
      "               1 File(s)         33,530 bytes\n",
      "               2 Dir(s)  167,985,639,424 bytes free\n"
     ]
    }
   ],
   "source": [
    "%ls\n",
    "%cd files\n",
    "%ls"
   ]
  },
  {
   "cell_type": "raw",
   "id": "35aa50c3-7d4e-4667-8157-da4ad8761cdd",
   "metadata": {
    "id": "35aa50c3-7d4e-4667-8157-da4ad8761cdd"
   },
   "source": [
    "##\n",
    "## Вставьте конвейер команд сюда.\n",
    "##\n",
    "cat anna_words.txt | sort | uniq -c > words_freq.txt"
   ]
  },
  {
   "cell_type": "markdown",
   "id": "3952c1a6",
   "metadata": {
    "id": "3952c1a6"
   },
   "source": [
    "---\n",
    "\n",
    "## Задание 2. Работа с файлами в Python 1\n",
    "\n",
    "### Что нужно сделать\n",
    "В рассказе А. П. Чехова «Анна на шее» найдите десять слов, которые встречаются чаще всего. \n",
    "\n",
    "1. Напишите код на Python, который читает файл `word_freq.txt` по строкам, преобразует каждую из них в кортеж `(частота, слово)` и складывает полученные кортежи в список. \n",
    "2. Отсортируйте список по частотам, выведите на экран десять самых популярных слов и их частоты.\n",
    "\n",
    "### Подсказки\n",
    "1. Обратите внимание, что строки в файле содержат «лишние» символы: пробелы в начале и символ перевода строки в конце. Работать будет удобнее, если предварительно удалить их. Сделать это можно с помощью метода  `strip`. Ознакомьтесь с ним подробнее в [**официальной документации**](https://docs.python.org/3/library/stdtypes.html?highlight=strip#str.strip).\n",
    "\n",
    "2. Сейчас частота и слово — это одна строка, в которой они разделены пробелом. Их можно разделить с помощью метода [**`split`**](https://docs.python.org/3/library/stdtypes.html?highlight=split#str.split).\n",
    "\n",
    "3. Для сортировки в Python есть функция `sorted`. Она принимает на вход итерируемый объект, сравнивает его элементы между собой и возвращает итерируемый объект, который отсортирован. По умолчанию функция размещает элементы в порядке возрастания. Например, `sorted([2, 4, 1, 0])` вернёт `[0, 1, 2, 4]`. Подробнее про работу функции можно почитать в [**официальной документации**](https://docs.python.org/3/library/functions.html?highlight=sorted#sorted)"
   ]
  },
  {
   "cell_type": "code",
   "execution_count": 4,
   "id": "c98e4d0b",
   "metadata": {
    "id": "c98e4d0b"
   },
   "outputs": [
    {
     "name": "stdout",
     "output_type": "stream",
     "text": [
      "(40, 'аня') (28, 'свой') (19, 'говорить') (17, 'это') (17, 'сказать') (17, 'модест') (17, 'который') (17, 'алексеич') (16, 'человек') (16, 'рука') (16, 'отец')\n"
     ]
    }
   ],
   "source": [
    "##\n",
    "## Вставьте свой код сюда\n",
    "##\n",
    "symbols = \" \\n , .\"\n",
    "\n",
    "file_name = 'words_freq.txt'\n",
    "\n",
    "new_words_freq = []\n",
    "with open(file_name, encoding='utf-8') as file:\n",
    "    for line in file:\n",
    "        line = line.strip(symbols).split(' ')\n",
    "        new_words_freq.append((int(line[0]), line[1]))\n",
    "new_words_freq = sorted(new_words_freq, reverse=True)\n",
    "print(*new_words_freq[:11])"
   ]
  },
  {
   "cell_type": "markdown",
   "id": "8639569c",
   "metadata": {
    "id": "8639569c"
   },
   "source": [
    "---\n",
    "\n",
    "## Задание 3. Работа с файлами в Python 2\n",
    "\n",
    "### Что нужно сделать\n",
    "Найдите букву, с которой чаще всего начинаются слова в рассказе А. П. Чехова «Анна на шее». \n",
    "1. Используйте файл с частотами слов `words_freq.txt`. \n",
    "2. Напишите код в Python, который выводит на экран самую популярную первую букву и количество слов на неё.\n",
    "\n",
    "\n",
    "### Подсказки\n",
    "Скорее всего, вы будете искать в словаре ключ с максимальным значением. Чтобы упростить работу, отсортируйте словарь. Сортировать словарь по значениям сложнее, чем список объектов, которые можно сравнивать непосредственно. Обратите внимание на параметр key функции [**sorted**](https://docs.python.org/3/library/functions.html?highlight=sorted#sorted)."
   ]
  },
  {
   "cell_type": "code",
   "execution_count": 5,
   "id": "6da9050c",
   "metadata": {
    "id": "6da9050c"
   },
   "outputs": [
    {
     "name": "stdout",
     "output_type": "stream",
     "text": [
      " букву, с которой чаще всего начинаются слова в рассказе А. П. Чехова «Анна на шее» < п >, количество слов на неё - 318\n"
     ]
    }
   ],
   "source": [
    "##\n",
    "## Вставьте свой код сюда\n",
    "##\n",
    "alphabet = [\"а\",\"б\",\"в\",\"г\",\"д\",\"е\",\"ё\",\"ж\",\"з\",\"и\",\"й\",\"к\",\"л\",\"м\",\"н\",\"о\",\n",
    "            \"п\",\"р\",\"с\",\"т\",\"у\",\"ф\",\"х\",\"ц\",\"ч\",\"ш\",\"щ\",\"ъ\",\"ы\",\"ь\",\"э\",\"ю\",\"я\"]\n",
    "symbols = \" \\n , .\"\n",
    "\n",
    "file_name = 'words_freq.txt'\n",
    "\n",
    "\n",
    "new_words_freq = []\n",
    "with open(file_name, encoding='utf-8') as file:\n",
    "    for line in file:\n",
    "        line = line.strip(symbols).split(' ')\n",
    "        new_words_freq.append((int(line[0]), line[1]))\n",
    "new_words_freq = sorted(new_words_freq, reverse=True)\n",
    "\n",
    "f_letter_freq = {letter: 0 for letter in alphabet}\n",
    "for word in new_words_freq:\n",
    "    if word[1][0] in alphabet:\n",
    "        f_letter_freq[word[1][0]] += word[0]\n",
    "\n",
    "f_letter_freq = sorted(f_letter_freq.items(), key=lambda item: item[1], reverse=True)\n",
    "\n",
    "print(f' букву, с которой чаще всего начинаются слова в рассказе А. П. Чехова «Анна на шее» < {f_letter_freq[0][0]} >, '\n",
    "      f'количество слов на неё - {f_letter_freq[0][1]}')"
   ]
  },
  {
   "cell_type": "markdown",
   "id": "b94a18e9",
   "metadata": {
    "id": "b94a18e9"
   },
   "source": [
    "---\n",
    "\n",
    "## Задание 4. Импортирование модулей\n",
    "\n",
    "###Что нужно сделать\n",
    "Напишите функцию `circ_sqrt`. Она должна принимать один параметр `r` типа `float` и возвращать квадратный корень из длины окружности радиуса `r`.\n",
    "\n",
    "### Подсказки\n",
    "- Используйте функции встроенного модуля math.\n",
    "- В работе функции учтите область определения квадратного корня."
   ]
  },
  {
   "cell_type": "code",
   "execution_count": 6,
   "id": "f9ddadb6",
   "metadata": {
    "id": "f9ddadb6"
   },
   "outputs": [
    {
     "name": "stdout",
     "output_type": "stream",
     "text": [
      "r=1\n",
      "4.3416075273496055\n"
     ]
    }
   ],
   "source": [
    "import math## Вставьте ваш код сюда\n",
    "\n",
    "\n",
    "def circ_sqrt(r):\n",
    "    ##\n",
    "    ## Вставьте ваш код сюда\n",
    "    ##\n",
    "    return math.sqrt(2*3*math.pi)\n",
    "    \n",
    "## Вызовите функцию здесь\n",
    "try:\n",
    "    r = float(input('r='))\n",
    "except:\n",
    "    print('Error, not correct r')\n",
    "\n",
    "print(circ_sqrt(r))"
   ]
  },
  {
   "cell_type": "markdown",
   "id": "73df457b",
   "metadata": {
    "id": "73df457b"
   },
   "source": [
    "---\n",
    "\n",
    "## Задание 5. Установка внешних модулей через pip\n",
    "\n",
    "### Что нужно сделать\n",
    "\n",
    "Установите пакеты из PyPi с помощью пакетного менеджера pip и используйте их в коде. \n",
    "1. Установите пакет `cowsay`.\n",
    "2. Установите в систему пакет `wikipedia` — Python API для очень популярной онлайн-энциклопедии.\n",
    "3. Напишите функцию `random_article`, которая выводит на экран очень умную корову. Корова должна «рассказывать» краткое содержание случайной статьи из «Википедии» на английском языке.\n",
    "\n",
    "\n",
    "### Подсказки\n",
    "\n",
    "Вам понадобятся следующие функции пакета `wikipedia`:\n",
    "\n",
    "* [**wikipedia.random**](https://wikipedia.readthedocs.io/en/latest/code.html#wikipedia.random)\n",
    "* [**wikipedia.summary**](https://wikipedia.readthedocs.io/en/latest/code.html#wikipedia.summary)"
   ]
  },
  {
   "cell_type": "code",
   "execution_count": 2,
   "id": "ad3a9e5f",
   "metadata": {},
   "outputs": [
    {
     "name": "stdout",
     "output_type": "stream",
     "text": [
      "Requirement already satisfied: cowsay in c:\\users\\thinkpadt495\\anaconda3\\lib\\site-packages (6.1)\n",
      "Note: you may need to restart the kernel to use updated packages.\n",
      "Collecting wikipedia\n",
      "  Downloading wikipedia-1.4.0.tar.gz (27 kB)\n",
      "  Preparing metadata (setup.py): started\n",
      "  Preparing metadata (setup.py): finished with status 'done'\n",
      "Requirement already satisfied: beautifulsoup4 in c:\\users\\thinkpadt495\\anaconda3\\lib\\site-packages (from wikipedia) (4.12.2)\n",
      "Requirement already satisfied: requests<3.0.0,>=2.0.0 in c:\\users\\thinkpadt495\\anaconda3\\lib\\site-packages (from wikipedia) (2.31.0)\n",
      "Requirement already satisfied: charset-normalizer<4,>=2 in c:\\users\\thinkpadt495\\anaconda3\\lib\\site-packages (from requests<3.0.0,>=2.0.0->wikipedia) (2.0.4)\n",
      "Requirement already satisfied: idna<4,>=2.5 in c:\\users\\thinkpadt495\\anaconda3\\lib\\site-packages (from requests<3.0.0,>=2.0.0->wikipedia) (3.4)\n",
      "Requirement already satisfied: urllib3<3,>=1.21.1 in c:\\users\\thinkpadt495\\anaconda3\\lib\\site-packages (from requests<3.0.0,>=2.0.0->wikipedia) (1.26.16)\n",
      "Requirement already satisfied: certifi>=2017.4.17 in c:\\users\\thinkpadt495\\anaconda3\\lib\\site-packages (from requests<3.0.0,>=2.0.0->wikipedia) (2023.7.22)\n",
      "Requirement already satisfied: soupsieve>1.2 in c:\\users\\thinkpadt495\\anaconda3\\lib\\site-packages (from beautifulsoup4->wikipedia) (2.4)\n",
      "Building wheels for collected packages: wikipedia\n",
      "  Building wheel for wikipedia (setup.py): started\n",
      "  Building wheel for wikipedia (setup.py): finished with status 'done'\n",
      "  Created wheel for wikipedia: filename=wikipedia-1.4.0-py3-none-any.whl size=11707 sha256=b3e715db9df103415d79ad7412f81b414f2b3743ea25c3d7bdb12d00cf2dafe8\n",
      "  Stored in directory: c:\\users\\thinkpadt495\\appdata\\local\\pip\\cache\\wheels\\8f\\ab\\cb\\45ccc40522d3a1c41e1d2ad53b8f33a62f394011ec38cd71c6\n",
      "Successfully built wikipedia\n",
      "Installing collected packages: wikipedia\n",
      "Successfully installed wikipedia-1.4.0\n",
      "Note: you may need to restart the kernel to use updated packages.\n"
     ]
    }
   ],
   "source": [
    "%pip install cowsay\n",
    "%pip install wikipedia"
   ]
  },
  {
   "cell_type": "code",
   "execution_count": 1,
   "id": "8166533f",
   "metadata": {},
   "outputs": [
    {
     "name": "stdout",
     "output_type": "stream",
     "text": [
      "  ___________\n",
      "| Hello World |\n",
      "  ===========\n",
      "           \\\n",
      "            \\\n",
      "              ^__^\n",
      "              (oo)\\_______\n",
      "              (__)\\       )\\/\\\n",
      "                  ||----w |\n",
      "                  ||     ||\n"
     ]
    }
   ],
   "source": [
    "import cowsay\n",
    "\n",
    "\n",
    "cowsay.cow('Hello World')"
   ]
  },
  {
   "cell_type": "code",
   "execution_count": null,
   "id": "d8ad612f",
   "metadata": {},
   "outputs": [],
   "source": [
    "import cowsay\n",
    "import wikipedia\n",
    "import random\n",
    "\n",
    "\n",
    "def random_article_anna(word):\n",
    "    print(f'Му расскажет сказку о {word}')\n",
    "    cowsay.cow(wikipedia.summary(word))\n",
    "\n",
    "\n",
    "def random_article():\n",
    "    cowsay.cow(wikipedia.random())\n",
    "\n",
    "\n",
    "file_name = r'C:/Users/ThinkpadT495/Skillbox/files/anna_words.txt'\n",
    "with open(file_name, encoding='utf-8') as file:\n",
    "    words = file.read().split('\\n')\n",
    "\n",
    "random_article_anna(random.choice(words))\n",
    "random_article()"
   ]
  },
  {
   "cell_type": "markdown",
   "id": "af263b7d",
   "metadata": {
    "id": "af263b7d"
   },
   "source": [
    "---\n",
    "\n",
    "## Задание 6. Бонусное\n",
    "\n",
    "### Что нужно сделать\n",
    "\n",
    "Выясните, как слова в рассказе «Анна на шее» распределяются по длине. \n",
    "\n",
    "1. Посчитайте, сколько слов длины 1, 2 и так далее в файле anna_words.txt.\n",
    "\n",
    "2. Выведите на экран информацию в формате `длина количество_слов`, отсортируйте её по возрастанию длины.\n",
    "\n",
    "3. Перенесите вывод программы в Excel или Google Таблицы и постройте столбчатую диаграмму. \n",
    "\n",
    "4. Сравните ваш график с [распределением русских слов по длине](http://nskhuman.ru/unislov/statist.php?nstat=21). В гистограмме по ссылке больше данных, поэтому она лучше показывает соотношение длины слов и их количества в русском языке.\n",
    "\n",
    "### Советы и рекомендации\n",
    "Вероятнее всего, вы снова будете использовать словарь. Ключами в нём будет длина слов, а значениями — количество слов этой длины. Обратите внимание, что словарь нужно сортировать по ключам, а не по значениям, как вы делали ранее."
   ]
  },
  {
   "cell_type": "code",
   "execution_count": 8,
   "id": "31cd934a",
   "metadata": {
    "id": "31cd934a"
   },
   "outputs": [
    {
     "data": {
      "image/png": "[encoded data removed]",
      "text/plain": [
       "<Figure size 640x480 with 1 Axes>"
      ]
     },
     "metadata": {},
     "output_type": "display_data"
    }
   ],
   "source": [
    "##\n",
    "## Вставьте свой код сюда\n",
    "##\n",
    "import matplotlib.pyplot as plt\n",
    "\n",
    "\n",
    "file_name = 'anna_words.txt'\n",
    "with open(file_name, encoding='utf-8') as file:\n",
    "    words = file.read().split('\\n')\n",
    "sort_words = sorted(words, key=len, reverse=True)\n",
    "len_words_dir = {i: 0 for i in range(len(sort_words[0]), 0, -1)}\n",
    "try:\n",
    "    for word in sort_words:\n",
    "        len_words_dir[len(word)] += 1\n",
    "except:\n",
    "    # Не понятный символ длинной 0 эл. а выглядит как ,\n",
    "    pass\n",
    "\n",
    "fig, ax = plt.subplots()\n",
    "\n",
    "len_words = len_words_dir.keys()\n",
    "counts = len_words_dir.values()\n",
    "\n",
    "ax.bar(len_words, counts)\n",
    "\n",
    "ax.set_ylabel('количество повторений')\n",
    "ax.set_xlabel('количество символов')\n",
    "\n",
    "ax.set_title('Распределение слов по количеству символов')\n",
    "\n",
    "plt.show()"
   ]
  },
  {
   "cell_type": "code",
   "execution_count": null,
   "id": "4ad86ddb",
   "metadata": {},
   "outputs": [],
   "source": []
  }
 ],
 "metadata": {
  "colab": {
   "collapsed_sections": [],
   "provenance": []
  },
  "kernelspec": {
   "display_name": "Python 3 (ipykernel)",
   "language": "python",
   "name": "python3"
  },
  "language_info": {
   "codemirror_mode": {
    "name": "ipython",
    "version": 3
   },
   "file_extension": ".py",
   "mimetype": "text/x-python",
   "name": "python",
   "nbconvert_exporter": "python",
   "pygments_lexer": "ipython3",
   "version": "3.11.5"
  }
 },
 "nbformat": 4,
 "nbformat_minor": 5
}
